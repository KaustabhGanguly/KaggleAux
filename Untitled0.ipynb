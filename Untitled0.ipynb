{
 "metadata": {
  "name": "",
  "signature": "sha256:94f9b68b79736cd46caa25971997b3167406222dcce652f5517558cb9402780b"
 },
 "nbformat": 3,
 "nbformat_minor": 0,
 "worksheets": [
  {
   "cells": [
    {
     "cell_type": "code",
     "collapsed": false,
     "input": [
      "import pandas"
     ],
     "language": "python",
     "metadata": {},
     "outputs": [],
     "prompt_number": 1
    },
    {
     "cell_type": "code",
     "collapsed": false,
     "input": [
      "y = \"icecream_sales\"\n",
      "df = pandas.DataFrame(columns=['icecream_sales','sunny_days', 'incidence_of_lactose_intolerance'])"
     ],
     "language": "python",
     "metadata": {},
     "outputs": [],
     "prompt_number": 16
    },
    {
     "cell_type": "code",
     "collapsed": false,
     "input": [
      "independent_variable = y +' ~ '\n",
      "dependent_variables = \"\"\n",
      "dependent_variables += ' + '.join((val for i, val in enumerate(df.columns) if val != y))\n",
      "formula = independent_variable + dependent_variables\n",
      "formula"
     ],
     "language": "python",
     "metadata": {},
     "outputs": [
      {
       "metadata": {},
       "output_type": "pyout",
       "prompt_number": 29,
       "text": [
        "'icecream_sales ~ sunny_days + incidence_of_lactose_intolerance'"
       ]
      }
     ],
     "prompt_number": 29
    },
    {
     "cell_type": "code",
     "collapsed": false,
     "input": [],
     "language": "python",
     "metadata": {},
     "outputs": []
    }
   ],
   "metadata": {}
  }
 ]
}