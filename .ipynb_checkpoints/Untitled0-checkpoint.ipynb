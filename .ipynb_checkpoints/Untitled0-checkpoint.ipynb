{
 "metadata": {
  "name": "",
  "signature": "sha256:af59418725e07cb7017caacf37d216a04cb9dd3c5f81c639e7fa3ce78de51f78"
 },
 "nbformat": 3,
 "nbformat_minor": 0,
 "worksheets": [
  {
   "cells": [
    {
     "cell_type": "code",
     "collapsed": false,
     "input": [
      "import pandas"
     ],
     "language": "python",
     "metadata": {},
     "outputs": [],
     "prompt_number": 1
    },
    {
     "cell_type": "code",
     "collapsed": false,
     "input": [
      "y = \"icecream\"\n",
      "df = pandas.DataFrame(columns=['icecream','cookies', 'cake',])"
     ],
     "language": "python",
     "metadata": {},
     "outputs": [],
     "prompt_number": 2
    },
    {
     "cell_type": "code",
     "collapsed": false,
     "input": [
      "formula = y +' ~ '\n",
      "# for i, val in enumerate(df.columns):\n",
      "#     if val == y:\n",
      "#         continue\n",
      "#     if i == 0:\n",
      "#         formula += val\n",
      "#         continue\n",
      "#     formula += ' + {0}'.format(val)\n",
      "       \n",
      "formula += str((str(val) if i == 0 else ' + {0}'.format(val) \n",
      "            for i, val in enumerate(df.columns) \n",
      "            if val != y))\n",
      "\n",
      "formula"
     ],
     "language": "python",
     "metadata": {},
     "outputs": [
      {
       "metadata": {},
       "output_type": "pyout",
       "prompt_number": 5,
       "text": [
        "'icecream ~ <generator object <genexpr> at 0x10be269b0>'"
       ]
      }
     ],
     "prompt_number": 5
    },
    {
     "cell_type": "code",
     "collapsed": false,
     "input": [],
     "language": "python",
     "metadata": {},
     "outputs": []
    }
   ],
   "metadata": {}
  }
 ]
}